{
 "cells": [
  {
   "cell_type": "code",
   "execution_count": 1,
   "metadata": {},
   "outputs": [
    {
     "name": "stderr",
     "output_type": "stream",
     "text": [
      "Using TensorFlow backend.\n"
     ]
    }
   ],
   "source": [
    "import numpy as np\n",
    "import pandas as pd\n",
    "import keras\n",
    "import pickle"
   ]
  },
  {
   "cell_type": "code",
   "execution_count": null,
   "metadata": {},
   "outputs": [],
   "source": [
    "!pip install tensorflow\n",
    "!pip install keras"
   ]
  },
  {
   "cell_type": "code",
   "execution_count": 2,
   "metadata": {},
   "outputs": [
    {
     "name": "stderr",
     "output_type": "stream",
     "text": [
      "[nltk_data] Downloading package stopwords to\n",
      "[nltk_data]     C:\\Users\\paula\\AppData\\Roaming\\nltk_data...\n",
      "[nltk_data]   Package stopwords is already up-to-date!\n"
     ]
    },
    {
     "name": "stdout",
     "output_type": "stream",
     "text": [
      "Your browser has been opened to visit:\n",
      "\n",
      "    https://accounts.google.com/o/oauth2/auth?client_id=707090095875-bgbl1m86fr5r0inqg1d01obesaj4109e.apps.googleusercontent.com&redirect_uri=http%3A%2F%2Flocalhost%3A8080%2F&scope=https%3A%2F%2Fwww.googleapis.com%2Fauth%2Fdrive&access_type=offline&response_type=code\n",
      "\n",
      "Authentication successful.\n"
     ]
    }
   ],
   "source": [
    "import Consultas_entrenar as ent\n",
    "import obtener_contenido_archivo as oca"
   ]
  },
  {
   "cell_type": "code",
   "execution_count": null,
   "metadata": {},
   "outputs": [],
   "source": [
    "# Recrea exactamente el mismo modelo desde el archivo\n",
    "\n",
    "new_model = keras.models.load_model('modelo_pred_violencia.h5')"
   ]
  },
  {
   "cell_type": "code",
   "execution_count": null,
   "metadata": {},
   "outputs": [],
   "source": [
    "\n",
    "cv_loaded = pickle.load(open('countVectorizer_spacy', \"rb\"))"
   ]
  },
  {
   "cell_type": "code",
   "execution_count": 3,
   "metadata": {},
   "outputs": [],
   "source": [
    "def predecir_violencia(url):\n",
    "    new_model = keras.models.load_model('modelo_pred_violencia.h5')\n",
    "    cv_loaded = pickle.load(open('countVectorizer_spacy', \"rb\"))\n",
    "    #obtener contenido del archivo\n",
    "    declaracion= oca.descargar_de_drive([url])\n",
    "    #Normaliza el texto\n",
    "    declaracion=pd.DataFrame(declaracion)\n",
    "    corpus=ent.armar_bag_of_words(declaracion)\n",
    "    #Aplica CountVectorizer al corpus normalizado\n",
    "    obse_vec=cv_loaded.transform(corpus).toarray()\n",
    "    #predecir\n",
    "    new_predictions = new_model.predict(obse_vec)\n",
    "    return new_predictions"
   ]
  },
  {
   "cell_type": "code",
   "execution_count": 23,
   "metadata": {},
   "outputs": [
    {
     "name": "stdout",
     "output_type": "stream",
     "text": [
      "0B9wNhp3GjjazRnBoRXM0R1BFNlE 3165 L. A. SA s. infr. art. 2 ley 26735.pdf application/pdf\n"
     ]
    }
   ],
   "source": [
    "pred=predecir_violencia('https://drive.google.com/open?id=0B9wNhp3GjjazRnBoRXM0R1BFNlE')"
   ]
  },
  {
   "cell_type": "code",
   "execution_count": 31,
   "metadata": {},
   "outputs": [],
   "source": [
    "resultado=pd.DataFrame(pred>0.5).transpose()\n",
    "resultado[\"probabilidad\"]=pd.DataFrame(pred.transpose())"
   ]
  },
  {
   "cell_type": "code",
   "execution_count": 26,
   "metadata": {},
   "outputs": [],
   "source": [
    "del resultado"
   ]
  },
  {
   "cell_type": "code",
   "execution_count": 42,
   "metadata": {},
   "outputs": [],
   "source": [
    "from unicodedata import normalize"
   ]
  },
  {
   "cell_type": "code",
   "execution_count": 99,
   "metadata": {},
   "outputs": [],
   "source": [
    "def limpiar_texto(dataset):\n",
    "    import html\n",
    "    import re\n",
    "    review = str(html.unescape(dataset))\n",
    "    review = cleanhtml(review)\n",
    "    review = normalize( 'NFC', review)\n",
    "    review = re.sub('[^a-zA-Zá-ú0-9.\"\",?!:]', ' ', review)\n",
    "    review = review.split()\n",
    "    review = [word for word in review if len(word) > 1 or word in set(['a', 'e', 'y', 'o', 'u'])]\n",
    "    review = ' '.join(review)\n",
    "    return review\n"
   ]
  },
  {
   "cell_type": "code",
   "execution_count": 95,
   "metadata": {},
   "outputs": [],
   "source": [
    "def limpiar_texto2(dataset):\n",
    "    import html\n",
    "    import re\n",
    "    review = str(html.unescape(dataset))\n",
    "    review = cleanhtml(review)\n",
    "    \n",
    "    review = re.sub(r\"([^n\\u0300-\\u036f]|n(?!\\u0303(?![\\u0300-\\u036f])))[\\u0300-\\u036f]+\", r\"\\1\", \n",
    "            normalize( \"NFD\", review), 0, re.I)\n",
    "    review = review.split()\n",
    "    review = [word for word in review if len(word) > 1 or word in set(['a', 'e', 'y', 'o', 'u'])]\n",
    "    review = ' '.join(review)\n",
    "    return review\n"
   ]
  },
  {
   "cell_type": "code",
   "execution_count": 96,
   "metadata": {},
   "outputs": [],
   "source": [
    "\n",
    "def cleanhtml(raw_html):\n",
    "    import re\n",
    "    cleanr = re.compile('<.*?>')\n",
    "    cleantext = re.sub(cleanr, '', raw_html)\n",
    "    return cleantext"
   ]
  },
  {
   "cell_type": "code",
   "execution_count": 104,
   "metadata": {},
   "outputs": [],
   "source": [
    "texto='\\n\\n\\n\\n\\n\\n\\n\\n\\n\\n\\n\\n\\n\\n\\n\\n\\n\\n\\n\\n\\n\\n\\n\\n\\n\\n\\n\\n\\n\\n\\n\\n\\n\\n\\n\\n\\n\\n\\n\\n\\n\\']!;i¡<r t\\ gt°\\'. \": [�. \\'f\\' imj,v·jj;; ,uenos aires, 14 de septiembre de 2014.\\n\\ \\n\\n� d 7;�,/j.\\' �/ o/ \\n\\n\\.,: \\�\\n\\'(¡·0\"\\' j,:\\' \\n\\n\\' autos y vistos. \\n\\\\�� /// .. :.- / \\n\\n\\:?;:¡4;,,:\\'., ,, \\n/ para resolver respecto de la solicitud fiscal en la causa nº \\n\\n12749/16, del registro de la secretaria general de la camara de apelaciones \\n\\ndel fuero, en tramite ante este juzgado en lo penal, contravencional y de \\nfaltas nº 10, caratulada \"a v , s l s/ inf. art. 1, \\n\\nln 13.944, incumplimiento de los deberes de asistencia familiar p/l \\n\\n2303\". \\n\\nresulta: \\n\\n;\\' \\ni \\n\\n/\\n\\nla presente causa tiene por objeto, el hecho que fuera precisado por \\n\\nla señora fiscal, en el decreto de determinacion de los hechos confeccionado \\ncon fecha 11 de julio de 2016 (fs. 15). \\n\\nen dicha pieza procesal, y a merito de lo dispuesto por el art. 92 del \\n\\ncodigo de rito, la acusadora publica preciso que la presente investigacion, \\n\\ntendria por objeto determinar la responsabilidad de s l a \\n\\nv , por cuanto se habria sustraido de prestar dolosamente los medios \\n\\nindispensables para la subsistencia de su hija r a a s , \\nnacida el 18 de enero de 20, domiciliada junto a su madre c m \\n\\nq_� s en la finca sita en la calle carlos calvo 3*, habitacion *, de esta\\n.,j ciudad, ello desde enero 2016 hasta al menos la actualidad?, al no realizar \\n\\nc.. a,s \\n\\'15 i aportes para colaborar con su manutencion, ya sea dinerario o en concepto de \\n·-::, \\n\\n-;;: i alimentos, vestimenta, educacion y/o esparcimiento.\\n�b \\n� ,))? la'\n"
   ]
  },
  {
   "cell_type": "code",
   "execution_count": 105,
   "metadata": {},
   "outputs": [
    {
     "data": {
      "text/plain": [
       "'                                         \\']!;i¡<r t\\\\ gt°\\'. \": [�. \\'f\\' imj,v·jj;; ,uenos aires, 14 de septiembre de 2014. \\\\   � d 7;�,/j.\\' �/ o/   \\\\.,: \\\\� \\'(¡·0\"\\' j,:\\'   \\' autos y vistos.  \\\\�� /// .. :.- /   \\\\:?;:¡4;,,:\\'., ,,  / para resolver respecto de la solicitud fiscal en la causa nº   12749/16, del registro de la secretaria general de la camara de apelaciones   del fuero, en tramite ante este juzgado en lo penal, contravencional y de  faltas nº 10, caratulada \"a v , s l s/ inf. art. 1,   ln 13.944, incumplimiento de los deberes de asistencia familiar p/l   2303\".   resulta:   ;\\'  i   /  la presente causa tiene por objeto, el hecho que fuera precisado por   la señora fiscal, en el decreto de determinacion de los hechos confeccionado  con fecha 11 de julio de 2016 (fs. 15).   en dicha pieza procesal, y a merito de lo dispuesto por el art. 92 del   codigo de rito, la acusadora publica preciso que la presente investigacion,   tendria por objeto determinar la responsabilidad de s l a   v , por cuanto se habria sustraido de prestar dolosamente los medios   indispensables para la subsistencia de su hija r a a s ,  nacida el 18 de enero de 20, domiciliada junto a su madre c m   q_� s en la finca sita en la calle carlos calvo 3*, habitacion *, de esta .,j ciudad, ello desde enero 2016 hasta al menos la actualidad?, al no realizar   c.. a,s  \\'15 i aportes para colaborar con su manutencion, ya sea dinerario o en concepto de  ·-::,   -;;: i alimentos, vestimenta, educacion y/o esparcimiento. �b  � ,))? la'"
      ]
     },
     "execution_count": 105,
     "metadata": {},
     "output_type": "execute_result"
    }
   ],
   "source": [
    "texto.replace('\\n', ' ')"
   ]
  }
 ],
 "metadata": {
  "kernelspec": {
   "display_name": "Python 3",
   "language": "python",
   "name": "python3"
  },
  "language_info": {
   "codemirror_mode": {
    "name": "ipython",
    "version": 3
   },
   "file_extension": ".py",
   "mimetype": "text/x-python",
   "name": "python",
   "nbconvert_exporter": "python",
   "pygments_lexer": "ipython3",
   "version": "3.7.3"
  }
 },
 "nbformat": 4,
 "nbformat_minor": 2
}
